{
 "cells": [
  {
   "cell_type": "markdown",
   "id": "ec6654f9",
   "metadata": {},
   "source": [
    "# Продвинутое машинное обучение: ДЗ №3"
   ]
  },
  {
   "cell_type": "code",
   "execution_count": 1,
   "id": "af17c201",
   "metadata": {},
   "outputs": [],
   "source": [
    "import re\n",
    "from collections import Counter, OrderedDict\n",
    "from typing import Dict, Set\n",
    "\n",
    "import numpy as np\n",
    "import matplotlib.pyplot as plt\n",
    "import seaborn as sns"
   ]
  },
  {
   "cell_type": "code",
   "execution_count": 8,
   "id": "92666b50",
   "metadata": {},
   "outputs": [],
   "source": [
    "PATH_WAP = \"../hw03/data/WarAndPeace.txt\"\n",
    "PATH_AK = \"../hw03/data/AnnaKarenina.txt\"\n",
    "PATH_TEST = \"../hw03/data/BladeRunner.txt\"\n",
    "PATH_MESSAGE = \"../hw03/data/message.txt\""
   ]
  },
  {
   "cell_type": "code",
   "execution_count": 9,
   "id": "3f8ada29",
   "metadata": {},
   "outputs": [],
   "source": [
    "ALPHABET = list(\" абвгдежзийклмнопрстуфхцчшщъыьэюя\")\n",
    "REGEXP_ALPHABET = re.compile('[а-я]+')"
   ]
  },
  {
   "cell_type": "code",
   "execution_count": 10,
   "id": "702a83ce",
   "metadata": {},
   "outputs": [],
   "source": [
    "def get_text(path):\n",
    "    with open(path, \"r\") as f:\n",
    "        text = f.read()\n",
    "    return text\n",
    "\n",
    "\n",
    "def process_text(text):\n",
    "    text = text.lower()\n",
    "    words = re.findall(REGEXP_ALPHABET, text)\n",
    "    text = ' '.join(words)\n",
    "    return text"
   ]
  },
  {
   "cell_type": "code",
   "execution_count": 11,
   "id": "5b93b315",
   "metadata": {},
   "outputs": [],
   "source": [
    "TEXT_TRAIN = process_text(get_text(PATH_WAP)) + \" \" + process_text(get_text(PATH_AK))\n",
    "TEXT_TEST = process_text(get_text(PATH_TEST))\n",
    "MESSAGE = get_text(PATH_MESSAGE)"
   ]
  },
  {
   "cell_type": "code",
   "execution_count": 12,
   "id": "e0b7d402",
   "metadata": {},
   "outputs": [],
   "source": [
    "def extract_ngrams(text, n=1):\n",
    "    return [text[i:i + n] for i in range(len(text) - n + 1)]\n",
    "\n",
    "\n",
    "def calculate_ngram_frequencies(text, n=1):\n",
    "    processed_text = extract_ngrams(text, n)\n",
    "    counter = Counter(processed_text)\n",
    "    n_ngrams = len(processed_text)\n",
    "    stats = OrderedDict(sorted(counter.most_common(), key=lambda x: x[1]))\n",
    "    for ngram in stats:\n",
    "        stats[ngram] /= n_ngrams\n",
    "    return stats"
   ]
  },
  {
   "cell_type": "code",
   "execution_count": 13,
   "id": "ffbe3b02",
   "metadata": {},
   "outputs": [],
   "source": [
    "def generate_cipher_keys():\n",
    "    cipher_alphabet_codes = np.random.choice(range(9632, 9680), replace=False, size=len(ALPHABET))\n",
    "    cipher_alphabet = list(map(chr, cipher_alphabet_codes))\n",
    "    encryption_key = dict(zip(ALPHABET, cipher_alphabet))\n",
    "    decryption_key = dict(zip(cipher_alphabet, ALPHABET))\n",
    "    return encryption_key, decryption_key\n",
    "\n",
    "\n",
    "def encrypt_text(text: str, key: Dict) -> str:\n",
    "    encrypted_text = text\n",
    "    for old_char, new_char in key.items():\n",
    "        encrypted_text = encrypted_text.replace(old_char, new_char)\n",
    "    return encrypted_text\n",
    "\n",
    "\n",
    "def make_decryption_key(stats_train: OrderedDict, stats_test: OrderedDict) -> OrderedDict:\n",
    "    n_grams_train = list(stats_train.keys())\n",
    "    frequencies_train = list(stats_train.values())\n",
    "    mapping = {}\n",
    "    for n_gram_test, frequency_test in stats_test.items():\n",
    "        index = np.argmin(np.abs(np.array(frequencies_train) - frequency_test))\n",
    "        mapping[n_gram_test] = n_grams_train[index]\n",
    "    return mapping\n",
    "\n",
    "\n",
    "def decrypt_text(text, key):\n",
    "    text_list = list(text)\n",
    "    for old_char, new_char in key.items():\n",
    "        indices = [elem.span()[0] for elem in re.finditer(old_char, text)]\n",
    "        for index in indices:\n",
    "            text_list[index:index + len(new_char)] = new_char\n",
    "    return ''.join(text_list)"
   ]
  },
  {
   "cell_type": "markdown",
   "id": "1abcb76f",
   "metadata": {},
   "source": [
    "## 1. Частотный метод с униграммами"
   ]
  },
  {
   "cell_type": "markdown",
   "id": "e790993e",
   "metadata": {},
   "source": [
    "### Получение статистик"
   ]
  },
  {
   "cell_type": "code",
   "execution_count": 14,
   "id": "aeaf4dfd",
   "metadata": {},
   "outputs": [],
   "source": [
    "unigram_frequencies_train = calculate_ngram_frequencies(TEXT_TRAIN, n=1)"
   ]
  },
  {
   "cell_type": "code",
   "execution_count": 15,
   "id": "de7f99d5",
   "metadata": {},
   "outputs": [
    {
     "data": {
      "image/png": "[encoded data removed]",
      "text/plain": [
       "<Figure size 864x504 with 1 Axes>"
      ]
     },
     "metadata": {
      "needs_background": "light"
     },
     "output_type": "display_data"
    }
   ],
   "source": [
    "plt.figure(figsize=(12, 7))\n",
    "plt.bar(unigram_frequencies_train.keys(), unigram_frequencies_train.values())\n",
    "plt.show()"
   ]
  },
  {
   "cell_type": "code",
   "execution_count": 16,
   "id": "b07415fb",
   "metadata": {},
   "outputs": [
    {
     "data": {
      "text/plain": [
       "33"
      ]
     },
     "execution_count": 16,
     "metadata": {},
     "output_type": "execute_result"
    }
   ],
   "source": [
    "len(unigram_frequencies_train)"
   ]
  },
  {
   "cell_type": "markdown",
   "id": "b6ea2079",
   "metadata": {},
   "source": [
    "### Тестовый текст"
   ]
  },
  {
   "cell_type": "code",
   "execution_count": 17,
   "id": "68a20598",
   "metadata": {},
   "outputs": [],
   "source": [
    "np.random.seed(0)\n",
    "\n",
    "encryption_key, decryption_key = generate_cipher_keys()"
   ]
  },
  {
   "cell_type": "code",
   "execution_count": 18,
   "id": "4a847eb5",
   "metadata": {},
   "outputs": [
    {
     "data": {
      "text/plain": [
       "'◆▽▾▪◅◂◁▽▼▤▿▢◂▽▾▢▽◊▼▢▽▾▥▽◁▮◅▪▽◎▲▢▯▼▢▽●◂▽◎▢▾◂▲▪▼◂▽▨▼▶▲▻▢▾▥◂▽▿▢▲▤►◁▪▽▾▽▢◀●◂▽●▤▽◎▢◅▯▼▶◎▤◉▽▿▽▢▲▪▢●▶▽◆▽▯▻▢▼▲◂◁▽▿▤▿▽▯▪▽◁▶◊▪▽▻◂▲▴▤▮▼▽▾▢▽▼▱▻◂▽►◁▪▧▽▾▲▤▼▽▼▤●◀◂▫▧◂▲▤▽▾▯◂▽◃▼▪▽▻◀●▢▾◂●▪◆▽▪▯◊◂▧●▶▼▽▾▢▽▾▲◂▻◂●▪▽▿▤▿▽▯◁◂▧▥▽◎▢◅▽◅▢◈◅◂▻▽◎▲▪▨◁▢▽▾▲◂▻◆▽▶▻▪▲▤▼▱'"
      ]
     },
     "execution_count": 18,
     "metadata": {},
     "output_type": "execute_result"
    }
   ],
   "source": [
    "encrypted_test_text = encrypt_text(TEXT_TEST, encryption_key)\n",
    "encrypted_test_text"
   ]
  },
  {
   "cell_type": "code",
   "execution_count": 19,
   "id": "4b45d340",
   "metadata": {},
   "outputs": [
    {
     "data": {
      "text/plain": [
       "'я видел такое во что вы люди просто не поверите штурмовые корабли в огне на подступах к ориону я смотрел как си лучи мерцают во тьме близ врат тангейзера все эти мгновения исчезнут во времени как слезы под дождем пришло время умирать'"
      ]
     },
     "execution_count": 19,
     "metadata": {},
     "output_type": "execute_result"
    }
   ],
   "source": [
    "decrypt_text(encrypted_test_text, decryption_key)"
   ]
  },
  {
   "cell_type": "code",
   "execution_count": 20,
   "id": "56bfe96e",
   "metadata": {},
   "outputs": [
    {
     "data": {
      "text/plain": [
       "'ь индор нткео ие чне ич рйдн диекне во деиоинно йндивеичо кеитйрн и ечво вт дедкнддтю к еиневд ь квениор ктк кн рдчн воиютйн ие нйво йрнь иитн нтвчоюьоит ико юнн вчвеиовнь нкчоьвдн ие ииововн ктк кроьч дед деюдов динйре ииовь двнитнй'"
      ]
     },
     "execution_count": 20,
     "metadata": {},
     "output_type": "execute_result"
    }
   ],
   "source": [
    "unigram_frequencies_test = calculate_ngram_frequencies(encrypted_test_text, n=1)\n",
    "key_unigram = make_decryption_key(unigram_frequencies_train, unigram_frequencies_test)\n",
    "decrypt_text(encrypted_test_text, key_unigram)"
   ]
  },
  {
   "cell_type": "markdown",
   "id": "abf76efe",
   "metadata": {},
   "source": [
    "Пробел и некоторые буквы определены верно, но смысл в расшифровке не обнаруживается"
   ]
  },
  {
   "cell_type": "markdown",
   "id": "b8ed5ca5",
   "metadata": {},
   "source": [
    "## 2. Частотный метод с биграммами"
   ]
  },
  {
   "cell_type": "code",
   "execution_count": 21,
   "id": "6b934229",
   "metadata": {},
   "outputs": [],
   "source": [
    "BIGRAM_FREQUENCIES_TRAIN = calculate_ngram_frequencies(TEXT_TRAIN, n=2)"
   ]
  },
  {
   "cell_type": "code",
   "execution_count": 22,
   "id": "e0cd0105",
   "metadata": {},
   "outputs": [
    {
     "data": {
      "image/png": "[encoded data removed]",
      "text/plain": [
       "<Figure size 720x576 with 2 Axes>"
      ]
     },
     "metadata": {
      "needs_background": "light"
     },
     "output_type": "display_data"
    }
   ],
   "source": [
    "data = np.zeros((33, 33))\n",
    "\n",
    "for i in range(33):\n",
    "    for j in range(33):\n",
    "        ngram = ALPHABET[i] + ALPHABET[j]\n",
    "        if ngram not in BIGRAM_FREQUENCIES_TRAIN:\n",
    "            continue\n",
    "        data[i][j] = BIGRAM_FREQUENCIES_TRAIN[ngram]\n",
    "\n",
    "plt.figure(figsize=(10, 8))\n",
    "sns.heatmap(data, xticklabels=ALPHABET, yticklabels=ALPHABET, cmap=sns.cm.rocket_r)\n",
    "plt.yticks(rotation=0)\n",
    "plt.show()"
   ]
  },
  {
   "cell_type": "code",
   "execution_count": 23,
   "id": "6b266449",
   "metadata": {},
   "outputs": [
    {
     "data": {
      "text/plain": [
       "(819, 1089)"
      ]
     },
     "execution_count": 23,
     "metadata": {},
     "output_type": "execute_result"
    }
   ],
   "source": [
    "len(BIGRAM_FREQUENCIES_TRAIN), 33 ** 2"
   ]
  },
  {
   "cell_type": "markdown",
   "id": "09714e26",
   "metadata": {},
   "source": [
    "### Тестовый текст"
   ]
  },
  {
   "cell_type": "code",
   "execution_count": 24,
   "id": "93d65ad8",
   "metadata": {},
   "outputs": [
    {
     "data": {
      "text/plain": [
       "'ео аггг о оооо о агоо ггоаао  оагоо го   о  оао агоаг ооо  ге ггоо гогоо ого ооггоааае оо оагоае огоа оге    оо оаао  ооааа о о оо о ггоао е  оооааааа е о ао аао ого оггое ааагого о оо о оого     оагого ооааааг оо  оааоо о ое ааае оо'"
      ]
     },
     "execution_count": 24,
     "metadata": {},
     "output_type": "execute_result"
    }
   ],
   "source": [
    "bigram_frequencies_test = calculate_ngram_frequencies(encrypted_test_text, n=2)\n",
    "key_bigram = make_decryption_key(BIGRAM_FREQUENCIES_TRAIN, bigram_frequencies_test)\n",
    "decrypt_text(encrypted_test_text, key_bigram)"
   ]
  },
  {
   "cell_type": "markdown",
   "id": "16f74e73",
   "metadata": {},
   "source": [
    "Получилось гораздо хуже, чем в случае использования униграмм. По-видимому, это объясняется тем, что у короткого текста вероятность коллизий n-грамм выше. Также длина отрывка влияет на точность подсчета частот."
   ]
  },
  {
   "cell_type": "markdown",
   "id": "45137d7d",
   "metadata": {},
   "source": [
    "Обучимся на тренировочном тексте для исключения ошибки имплементации алгоритма"
   ]
  },
  {
   "cell_type": "code",
   "execution_count": 25,
   "id": "8c48cef8",
   "metadata": {},
   "outputs": [
    {
     "data": {
      "text/plain": [
       "'▾▢▫●▤▽▪▽▻▪▲▽▯▤▻▥▫▽▪▧▾◂▯▼●▥▫▽▲▢▻▤●▽◁▱▾▤▽●▪▿▢◁▤◂▾▪◊▤▽▼▢◁▯▼▢◀▢▽▿▤▿▽●▪▿▤▿▢◂▽◅▲▶◀▢◂▽◎▲▢▪▧▾◂◅◂●▪◂▽◎▪▯▤▼◂◁◆▽▢▼▲▤◈▤◂▼▽◀◁▶►▪●▶▽◂◀▢▽▻▪▲▢▢▭▶▭◂●▪◆▽▪▽▰▪◁▢▯▢▰▪▪▽◃▼▤▽▿●▪◀▤▽▪▧▽▲▤▧▲◆◅▤▽▾◂◊●▥◉▽◎▢▼▢▻▶▽◊▼▢▽▢●▤▽▢►▢▽▾▯◂▻▽▢'"
      ]
     },
     "execution_count": 25,
     "metadata": {},
     "output_type": "execute_result"
    }
   ],
   "source": [
    "encrypted_train_text = encrypt_text(TEXT_TRAIN, encryption_key)\n",
    "encrypted_train_text[:200]"
   ]
  },
  {
   "cell_type": "code",
   "execution_count": 26,
   "id": "85681e72",
   "metadata": {},
   "outputs": [],
   "source": [
    "bigram_frequencies_train_encrypted = calculate_ngram_frequencies(encrypted_train_text, n=2)\n",
    "key_bigram_train = make_decryption_key(BIGRAM_FREQUENCIES_TRAIN, bigram_frequencies_train_encrypted)"
   ]
  },
  {
   "cell_type": "code",
   "execution_count": 27,
   "id": "cd4aa250",
   "metadata": {},
   "outputs": [
    {
     "data": {
      "text/plain": [
       "'война и мир самый известный роман льва николаевича толстого как никакое другое произведение писателя отлажает глубину его мироощущения и философии эта книга из лазряда вечных потому что она обо всем о'"
      ]
     },
     "execution_count": 27,
     "metadata": {},
     "output_type": "execute_result"
    }
   ],
   "source": [
    "decrypt_text(encrypted_train_text[:200], key_bigram_train)"
   ]
  },
  {
   "cell_type": "markdown",
   "id": "b7b4e18f",
   "metadata": {},
   "source": [
    "Текст восстановлен за иключением нескольких мест: \"отлажает\", \"лазряда\""
   ]
  },
  {
   "cell_type": "markdown",
   "id": "1292eeb1",
   "metadata": {},
   "source": [
    "## 3. MCMC с биграммами"
   ]
  },
  {
   "cell_type": "code",
   "execution_count": 28,
   "id": "f6069277",
   "metadata": {},
   "outputs": [],
   "source": [
    "MIN_PROB = 1e-8\n",
    "\n",
    "\n",
    "def calculate_log_likelihood(decrypted_text, ngram_frequencies):\n",
    "    \"\"\"Логарифм правдоподобия расшифрованного сообщения на основе частот n-грамм\"\"\"\n",
    "    n = len(list(ngram_frequencies.keys())[0])\n",
    "    processed_text = extract_ngrams(decrypted_text, n=n)\n",
    "    score = 0\n",
    "    for ngram in processed_text:\n",
    "        if ngram not in ngram_frequencies:\n",
    "            score += np.log(MIN_PROB)\n",
    "        else:\n",
    "            score += np.log(ngram_frequencies[ngram])\n",
    "    return -score\n",
    "\n",
    "\n",
    "def random_swap(key):\n",
    "    \"\"\"Случайным образом меняет местами два символа в ключе расшифровки\"\"\"\n",
    "    char_1, char_2 = np.random.choice(list(key.keys()), replace=False, size=2)\n",
    "    key[char_1], key[char_2] = key[char_2], key[char_1]\n",
    "    \n",
    "\n",
    "def random_add(key, char):\n",
    "    \"\"\"Добавляет случайный символ из алфавита языка, если алфавит зашифрованного сообщений неполный\"\"\"\n",
    "    key[np.random.choice(list(key.keys()))] = char\n",
    "    \n",
    "    \n",
    "def generate_decryption_key(text: str) -> Dict:\n",
    "    text_alphabet = sorted(set(text))\n",
    "    values = np.random.choice(ALPHABET, replace=False, size=len(text_alphabet))\n",
    "    decryption_key = dict(zip(text_alphabet, values))\n",
    "    return decryption_key\n",
    "\n",
    "\n",
    "def propose_decryption_key(key):\n",
    "    \"\"\"Предложение нового ключа расшифровки с одним случайным отличием от текущего\"\"\"\n",
    "    proposed_key = key.copy()\n",
    "    char = np.random.choice(ALPHABET)\n",
    "    if char not in proposed_key.values():\n",
    "        random_add(proposed_key, char)\n",
    "    else:\n",
    "        random_swap(proposed_key)\n",
    "    return proposed_key\n",
    "\n",
    "\n",
    "def main_algorithm(encrypted_text, ngram_frequencies, n_iters=10 ** 5):\n",
    "    \n",
    "    key_cur = generate_decryption_key(encrypted_text)\n",
    "    print(\"Начальный ключ расшифровки:\")\n",
    "    print(key_cur)\n",
    "    print()\n",
    "    \n",
    "    for i in range(n_iters + 1):\n",
    "        \n",
    "        key_new = propose_decryption_key(key_cur)\n",
    "        \n",
    "        decrypted_text_cur = decrypt_text(encrypted_text, key_cur)\n",
    "        decrypted_text_new = decrypt_text(encrypted_text, key_new)\n",
    "\n",
    "        score_cur = calculate_log_likelihood(decrypted_text_cur, ngram_frequencies)\n",
    "        score_new = calculate_log_likelihood(decrypted_text_new, ngram_frequencies)\n",
    "\n",
    "        # если предложенный ключ дешифрует лучше текущего, принимаем его\n",
    "        if score_new < score_cur:\n",
    "            key_cur = key_new\n",
    "        # иначе принимаем с вычисленной вероятностью\n",
    "        else:\n",
    "            p = np.exp(score_cur - score_new)\n",
    "            p = np.minimum(1, p)\n",
    "            if np.random.rand() < p:\n",
    "                key_cur = key_new\n",
    "\n",
    "        if i % (n_iters // 4) == 0: \n",
    "            print(f\"Log likelihood: {score_cur:.2f}\")\n",
    "            print(decrypt_text(encrypted_text, key_cur))\n",
    "            print()"
   ]
  },
  {
   "cell_type": "markdown",
   "id": "98150bb3",
   "metadata": {},
   "source": [
    "### Тестовый пример"
   ]
  },
  {
   "cell_type": "code",
   "execution_count": 29,
   "id": "b7e1696e",
   "metadata": {},
   "outputs": [
    {
     "name": "stdout",
     "output_type": "stream",
     "text": [
      "Начальный ключ расшифровки:\n",
      "{'▢': 'й', '▤': 'ф', '▥': 'л', '▧': 'я', '▨': 'г', '▪': 'х', '▫': 'д', '▮': 'б', '▯': 'ь', '▱': 'ш', '▲': 'и', '▴': 'ц', '▶': 'т', '►': 'м', '▻': 'в', '▼': 'е', '▽': 'ы', '▾': 'ъ', '▿': 'ч', '◀': 'ю', '◁': 'з', '◂': 'у', '◃': 'с', '◅': ' ', '◆': 'к', '◈': 'р', '◉': 'о', '◊': 'а', '◎': 'п', '●': 'ж'}\n",
      "\n",
      "Log likelihood: 2958.32\n",
      "кыъх узыефчйуыъйытейыълызб хыпийьейыжуыпйъуихеуыгеаивйълуычйифмзхыъыйюжуыжфыпй ьеапфоычыйихйжаыкыьвйеиузычфчыьхызатхывуицфбеыъйыешвуымзхяыъифеыефжюудяуифыъьуысехывюжйъужхкыхьтуяжаеыъйыъиувужхычфчыьзуялыпй ы йр увыпихгзйыъиувкыавхифеш\n",
      "\n",
      "Log likelihood: 1312.90\n",
      "я дибел накое до шно дь лжби провно те подерине знурмодье корагли д очте та побвнупаф к ориоту я вмонрел как ви луши мерцажн до ныме глис дран натчейсера две хни мчтодетия ившестун до дремети как влесь поб боюбем призло дремя умираны\n",
      "\n",
      "Log likelihood: 1295.92\n",
      "я видел такое во что вы люди просто не поверите штурмовые корагли в ощне на подступай к ориону я смотрел как си лучи мерхают во тьме глиб врат танщезбера все эти мщновения исчебнут во времени как слебы под дождем пришло время умирать\n",
      "\n",
      "Log likelihood: 1290.47\n",
      "я виден такое во што вы нюди просто ле поверите чтурмовые коразни в огле ла подступах к ориолу я смотрен как си нуши мерцают во тьме зниб врат талгежбера все эти мгловелия исшеблут во времели как снебы под дойдем прично время умирать\n",
      "\n",
      "Log likelihood: 1291.29\n",
      "я виден такое во что вы нюди просто ле поверите штурмовые коразни в огле ла подступах к ориолу я смотрен как си нучи мерцают во тьме зниб врат талгейбера все эти мгловелия исчеблут во времели как снебы под дождем пришно время умирать\n",
      "\n"
     ]
    }
   ],
   "source": [
    "np.random.seed(2079)\n",
    "\n",
    "N_ITERS = 10 ** 4 * 4\n",
    "\n",
    "main_algorithm(encrypted_test_text, BIGRAM_FREQUENCIES_TRAIN, n_iters=N_ITERS)"
   ]
  },
  {
   "cell_type": "markdown",
   "id": "26c2d716",
   "metadata": {},
   "source": [
    "Лучший результат получился при лоссе 1295.92, хотя он и не минимальный."
   ]
  },
  {
   "cell_type": "markdown",
   "id": "4e9828c3",
   "metadata": {},
   "source": [
    "Посмотрим, какой лосс у незашифрованного текста:"
   ]
  },
  {
   "cell_type": "code",
   "execution_count": 30,
   "id": "6d4bf679",
   "metadata": {},
   "outputs": [
    {
     "data": {
      "text/plain": [
       "1295.8645664956898"
      ]
     },
     "execution_count": 30,
     "metadata": {},
     "output_type": "execute_result"
    }
   ],
   "source": [
    "calculate_log_likelihood(TEXT_TEST, BIGRAM_FREQUENCIES_TRAIN)"
   ]
  },
  {
   "cell_type": "markdown",
   "id": "b7d0fb54",
   "metadata": {},
   "source": [
    "Он очень близок к лоссу лучшего результата и тоже больше минимального полученного при обучении."
   ]
  },
  {
   "cell_type": "markdown",
   "id": "2deaeb35",
   "metadata": {},
   "source": [
    "### Расшифровка сообщения"
   ]
  },
  {
   "cell_type": "code",
   "execution_count": 37,
   "id": "42a8dea0",
   "metadata": {},
   "outputs": [
    {
     "name": "stdout",
     "output_type": "stream",
     "text": [
      "Начальный ключ расшифровки:\n",
      "{'←': 'о', '↘': 'в', '↙': 'с', '↝': 'т', '↞': 'ш', '↟': 'б', '↤': 'х', '↨': 'у', '↲': 'ц', '↳': 'ы', '↷': 'м', '↹': 'н', '↾': 'р', '⇆': 'ъ', '⇈': 'ч', '⇊': 'и', '⇌': 'з', '⇏': 'ж', '⇒': 'ф', '⇙': 'л', '⇛': 'к', '⇞': 'ю', '⇠': 'й', '⇯': 'я', '⇰': 'а', '⇴': 'ь', '⇷': 'д', '⇸': 'э'}\n",
      "\n",
      "Log likelihood: 2403.95\n",
      "ойфбнминмбхбуонткяыьфчтирнбфбндкюубнткяыьфчтирнуозйунлнэукскнйккцжотбшнзкукяирнфосзкндякюбуьучнйзкяоонмйоскнминмйонйхофьфбндяьмбфчткнбндкфлюбуоныьзйбыьфчтирнцьффнаьндкйфохтоонюоумояуконаьхьтбонзляйьнвкушнзктоюткншнтбюоскнтонкцожьъ\n",
      "\n",
      "Log likelihood: 1244.70\n",
      "если вы вимите норжальный или подти норжальный текст у этого соочшения который легко продитать скорее всего вы все смелали правильно и полудите жаксижальный чалл за послемнее детвертое замание курса ботя конедно я нидего не очешац\n",
      "\n",
      "Log likelihood: 1248.54\n",
      "если вы видите норжальный или почти норжальный текст у этого сообмения который легко прочитать скорее всего вы все сделали правильно и получите жаксижальный балл за последнее четвертое задание курса хотя конечно я ничего не обемащ\n",
      "\n",
      "Log likelihood: 1244.18\n",
      "если вы вимите норжальный или подти норжальный текст у этого соочшения который легко продитать скорее всего вы все смелали правильно и полудите жаксижальный чалл за послемнее детвертое замание курса хотя конедно я нидего не очешаю\n",
      "\n",
      "Log likelihood: 1242.58\n",
      "если вы вимите нордальный или почти нордальный текст у этого соожбения который легко прочитать скорее всего вы все смелали правильно и получите даксидальный жалл за послемнее четвертое замание курса хотя конечно я ничего не ожебаю\n",
      "\n"
     ]
    }
   ],
   "source": [
    "np.random.seed(2001)\n",
    "\n",
    "N_ITERS = 10 ** 4 * 4\n",
    "\n",
    "main_algorithm(MESSAGE, BIGRAM_FREQUENCIES_TRAIN, n_iters=N_ITERS)"
   ]
  },
  {
   "cell_type": "markdown",
   "id": "9e2440e7",
   "metadata": {},
   "source": [
    "Лучший вариант оказался при лоссе 1248.54."
   ]
  },
  {
   "cell_type": "code",
   "execution_count": 31,
   "id": "3d8b278d",
   "metadata": {},
   "outputs": [],
   "source": [
    "decrypted_message = \"если вы видите нормальный или почти нормальный \\\n",
    "текст у этого сообщения который легко прочитать скорее всего вы все \\\n",
    "сделали правильно и получите максимальный балл за последнее четвертое \\\n",
    "задание курса хотя конечно я ничего не обещаю\""
   ]
  },
  {
   "cell_type": "code",
   "execution_count": 32,
   "id": "3a8b9476",
   "metadata": {},
   "outputs": [
    {
     "data": {
      "text/plain": [
       "1246.4751851563594"
      ]
     },
     "execution_count": 32,
     "metadata": {},
     "output_type": "execute_result"
    }
   ],
   "source": [
    "calculate_log_likelihood(decrypted_message, BIGRAM_FREQUENCIES_TRAIN)"
   ]
  },
  {
   "cell_type": "markdown",
   "id": "cfc38417",
   "metadata": {},
   "source": [
    "Реальный лосс оказался опять близок к лоссу лучшего результата и опять выше минимального полученного"
   ]
  },
  {
   "cell_type": "markdown",
   "id": "48798242",
   "metadata": {},
   "source": [
    "## 4. MCMC с триграммами"
   ]
  },
  {
   "cell_type": "code",
   "execution_count": 33,
   "id": "7d178d1d",
   "metadata": {},
   "outputs": [],
   "source": [
    "TRIGRAM_FREQUENCIES_TRAIN = calculate_ngram_frequencies(TEXT_TRAIN, n=3)"
   ]
  },
  {
   "cell_type": "code",
   "execution_count": 34,
   "id": "17f16225",
   "metadata": {},
   "outputs": [
    {
     "data": {
      "image/png": "[encoded data removed]",
      "text/plain": [
       "<Figure size 864x504 with 1 Axes>"
      ]
     },
     "metadata": {
      "needs_background": "light"
     },
     "output_type": "display_data"
    }
   ],
   "source": [
    "n_trigrams = 30\n",
    "\n",
    "plt.figure(figsize=(12, 7))\n",
    "plt.bar(\n",
    "    [ngram.replace(' ', '_') for ngram in list(TRIGRAM_FREQUENCIES_TRAIN.keys())[:n_trigrams]], \n",
    "    list(TRIGRAM_FREQUENCIES_TRAIN.values())[:n_trigrams],\n",
    ")\n",
    "plt.title(label=f\"{n_trigrams} наименее распространенных триграмм\")\n",
    "plt.xticks(rotation=90)\n",
    "plt.show()"
   ]
  },
  {
   "cell_type": "code",
   "execution_count": 35,
   "id": "7b8278d7",
   "metadata": {},
   "outputs": [
    {
     "data": {
      "image/png": "[encoded data removed]",
      "text/plain": [
       "<Figure size 864x504 with 1 Axes>"
      ]
     },
     "metadata": {
      "needs_background": "light"
     },
     "output_type": "display_data"
    }
   ],
   "source": [
    "plt.figure(figsize=(12, 7))\n",
    "plt.bar(\n",
    "    [ngram.replace(' ', '_') for ngram in list(TRIGRAM_FREQUENCIES_TRAIN.keys())[-n_trigrams:]], \n",
    "    list(TRIGRAM_FREQUENCIES_TRAIN.values())[-n_trigrams:],\n",
    ")\n",
    "plt.title(label=f\"{n_trigrams} наиболее распространенных триграмм\")\n",
    "plt.xticks(rotation=90)\n",
    "plt.show()"
   ]
  },
  {
   "cell_type": "markdown",
   "id": "5a8e92a4",
   "metadata": {},
   "source": [
    "### Тестовый пример"
   ]
  },
  {
   "cell_type": "code",
   "execution_count": 51,
   "id": "06f525c6",
   "metadata": {},
   "outputs": [
    {
     "name": "stdout",
     "output_type": "stream",
     "text": [
      "Начальный ключ расшифровки:\n",
      "{'▢': 'к', '▤': 'у', '▥': 'ч', '▧': 'р', '▨': 'б', '▪': 'ш', '▫': 'щ', '▮': 'п', '▯': 'й', '▱': 'я', '▲': 'ь', '▴': 'ц', '▶': 'о', '►': 'з', '▻': 'м', '▼': 'э', '▽': 'д', '▾': 'н', '▿': 'ы', '◀': 'х', '◁': 'а', '◂': 'л', '◃': 'е', '◅': 'г', '◆': 'с', '◈': 'ф', '◉': 'т', '◊': 'и', '◎': 'ж', '●': 'ю'}\n",
      "\n",
      "Log likelihood: 4041.65\n",
      "сдншгладэуыклднкдиэкднчдапгшдоькйэкдюлдокнльшэлдбэжьмкнчлдыкьузашдндкхюлдюудокгйэжоутдыдкьшкюждсдймкэьладыуыдйшдажишдмльцупэднкдэямлдзашрдньуэдэуюхлщрльуднйлдеэшдмхюкнлюшсдшйилрюжэднкдньлмлюшдыуыдйалрчдокгдгкфглмдоьшбакдньлмсджмшьуэя\n",
      "\n",
      "Log likelihood: 2063.99\n",
      "я вичем лакое во шло вь мычи гносло ре говениле злунтовье конахми в опре ра гочслугаж к ониору я столнем как си муши тенцаыл во лбте хмид внал ларпейдена все эли тпроверия исшедрул во внетери как смедь гоч чоючет гнизмо внетя утиналб\n",
      "\n",
      "Log likelihood: 1849.67\n",
      "я видел такое во что вь люди просто не поверите хтурмовье коразли в огне на подступац к ориону я смотрел как си лучи мербают во тыме злиш врат тангейшера все эти мгновения исчешнут во времени как слешь под дождем прихло время умираты\n",
      "\n",
      "Log likelihood: 1824.89\n",
      "я видел такое во что вы люди просто не поверите штурмовые корабли в огне на подступах к ориону я смотрел как си лучи мерцают во тьме близ врат тангейзера все эти мгновения исчезнут во времени как слезы под дождем пришло время умирать\n",
      "\n",
      "Log likelihood: 1824.89\n",
      "я видел такое во что вы люди просто не поверите штурмовые корабли в огне на подступах к ориону я смотрел как си лучи мерцают во тьме близ врат тангейзера все эти мгновения исчезнут во времени как слезы под дождем пришло время умирать\n",
      "\n"
     ]
    }
   ],
   "source": [
    "np.random.seed(0)\n",
    "\n",
    "N_ITERS = 10 ** 4\n",
    "\n",
    "main_algorithm(encrypted_test_text, TRIGRAM_FREQUENCIES_TRAIN, n_iters=N_ITERS)"
   ]
  },
  {
   "cell_type": "markdown",
   "id": "fc4488e1",
   "metadata": {},
   "source": [
    "Результат получился идеальным, хотя и пришлось немного поэкспериментировать с random seed. Потребовалось меньше итераций."
   ]
  },
  {
   "cell_type": "markdown",
   "id": "c9a685dd",
   "metadata": {},
   "source": [
    "### Расшифровка сообщения"
   ]
  },
  {
   "cell_type": "code",
   "execution_count": 32,
   "id": "7a2b4a16",
   "metadata": {},
   "outputs": [
    {
     "name": "stdout",
     "output_type": "stream",
     "text": [
      "Начальный ключ расшифровки:\n",
      "{'←': 'о', '↘': 'в', '↙': 'с', '↝': 'т', '↞': 'ш', '↟': 'б', '↤': 'х', '↨': 'у', '↲': 'ц', '↳': 'ы', '↷': 'м', '↹': 'н', '↾': 'р', '⇆': 'ъ', '⇈': 'ч', '⇊': 'и', '⇌': 'з', '⇏': 'ж', '⇒': 'ф', '⇙': 'л', '⇛': 'к', '⇞': 'ю', '⇠': 'й', '⇯': 'я', '⇰': 'а', '⇴': 'ь', '⇷': 'д', '⇸': 'э'}\n",
      "\n",
      "Log likelihood: 3699.39\n",
      "ойфбнминмбхбуонткяыьфчтирнбфбндкюубнткяыьфчтирнуозйунлнэукскнйккцжотбшнзкукяирнфосзкндякюбуьучнйзкяоонмйоскнминмйонйхофьфбндяьмбфчткнбндкфлюбуоныьзйбыьфчтирнцьффнаьндкйфохтоонюоумояуконаьхьтбонзляйьнвкушнзктоюткншнтбюоскнтонкцожьъ\n",
      "\n",
      "Log likelihood: 1794.97\n",
      "если вы вимите норбальный или почти норбальный текст у штого сооджения который легко прочитать скорее всего вы все смелали правильно и получите баксибальный далл за послемнее четвертое замание курса эотя конечно я ничего не одежах\n",
      "\n",
      "Log likelihood: 1738.60\n",
      "если вы видите нормальный или почти нормальный текст у этого сообщения который легко прочитать скорее всего вы все сделали правильно и получите максимальный балл за последнее четвертое задание курса хотя конечно я ничего не обещаж\n",
      "\n",
      "Log likelihood: 1735.34\n",
      "если вы видите нормальный или почти нормальный текст у этого сообщения который легко прочитать скорее всего вы все сделали правильно и получите максимальный балл за последнее четвертое задание курса хотя конечно я ничего не обещаю\n",
      "\n",
      "Log likelihood: 1735.34\n",
      "если вы видите нормальный или почти нормальный текст у этого сообщения который легко прочитать скорее всего вы все сделали правильно и получите максимальный балл за последнее четвертое задание курса хотя конечно я ничего не обещаю\n",
      "\n"
     ]
    }
   ],
   "source": [
    "np.random.seed(2001)\n",
    "\n",
    "N_ITERS = 10 ** 4\n",
    "\n",
    "main_algorithm(MESSAGE, TRIGRAM_FREQUENCIES_TRAIN, n_iters=N_ITERS)"
   ]
  },
  {
   "cell_type": "markdown",
   "id": "515d083a",
   "metadata": {},
   "source": [
    "Результат получился идеальным. Потребовалось меньше итераций."
   ]
  },
  {
   "cell_type": "code",
   "execution_count": null,
   "id": "120a64f7",
   "metadata": {},
   "outputs": [],
   "source": []
  }
 ],
 "metadata": {
  "kernelspec": {
   "display_name": "Python 3",
   "language": "python",
   "name": "python3"
  },
  "language_info": {
   "codemirror_mode": {
    "name": "ipython",
    "version": 3
   },
   "file_extension": ".py",
   "mimetype": "text/x-python",
   "name": "python",
   "nbconvert_exporter": "python",
   "pygments_lexer": "ipython3",
   "version": "3.8.6"
  }
 },
 "nbformat": 4,
 "nbformat_minor": 5
}
